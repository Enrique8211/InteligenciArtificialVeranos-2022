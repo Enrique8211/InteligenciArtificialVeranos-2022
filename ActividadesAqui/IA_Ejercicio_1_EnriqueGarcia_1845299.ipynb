{
  "nbformat": 4,
  "nbformat_minor": 0,
  "metadata": {
    "colab": {
      "name": "IA_Ejercicio_1_EnriqueGarcia_1845299.ipynb",
      "provenance": []
    },
    "kernelspec": {
      "name": "python3",
      "display_name": "Python 3"
    },
    "language_info": {
      "name": "python"
    }
  },
  "cells": [
    {
      "cell_type": "markdown",
      "source": [
        "##Actividad #2 Ejercicios en Python\n",
        "Enrique Fernando Garcia Moreno 1845299 Hora:N4"
      ],
      "metadata": {
        "id": "Q1vWUzDF3BcS"
      }
    },
    {
      "cell_type": "code",
      "execution_count": 13,
      "metadata": {
        "colab": {
          "base_uri": "https://localhost:8080/"
        },
        "id": "ugd9mO3K25Ke",
        "outputId": "3463bb20-44f0-406a-bbef-52de87e433a3"
      },
      "outputs": [
        {
          "output_type": "stream",
          "name": "stdout",
          "text": [
            "Hola ¿Cual es tu nombre? Enrique García\n",
            "Hola Enrique García es un gusto conocerte.\n"
          ]
        }
      ],
      "source": [
        "# \"Ejercicio 1- Escribe un programa que le pida al usuario su nombre y que lo salude con su nombre, exceto sí se llama \"Ana\", \"Juan\" y \"Pedro\".#\n",
        "Nombre = input(\"Hola ¿Cual es tu nombre? \")\n",
        "if Nombre == \"Ana\" or Nombre == \"Juan\" or Nombre == \"Pedro\":\n",
        "  print(\" Lo siento no puedo saludarte.\")\n",
        "else:\n",
        "  print(\"Hola \" + Nombre + \" es un gusto conocerte.\")\n",
        "  "
      ]
    },
    {
      "cell_type": "code",
      "source": [
        "# \"Ejercicio 2.Escribe una función que regrese el último elemento de una lista y que revierta el orden de la lista e imprima la lista revertida.\"\n",
        "# Lista de materiales\n",
        "Materiales = (\"libreta\", \"Lapices\", \"Borrador\", \"Plumas\")\n",
        "Reverso = reversed(Materiales)\n",
        "x = next(Reverso)\n",
        "print(x)\n",
        "#m Materiales invertidos\n",
        "Reverso = list(reversed(Materiales))\n",
        "print(Reverso)\n"
      ],
      "metadata": {
        "colab": {
          "base_uri": "https://localhost:8080/"
        },
        "id": "fpir9OcY70jS",
        "outputId": "609ebe66-440a-4132-f771-db4f022c88ab"
      },
      "execution_count": 18,
      "outputs": [
        {
          "output_type": "stream",
          "name": "stdout",
          "text": [
            "Plumas\n",
            "['Plumas', 'Borrador', 'Lapices', 'libreta']\n"
          ]
        }
      ]
    },
    {
      "cell_type": "code",
      "source": [
        "# \"Ejercicio 3..Escribe una función que toma una lista de strings y los imprima línea por línea en un marco rectangular.\"\n",
        "print(\"************\")\n",
        "Palabras = (\"Hola      *\",\"me        *\",\"gusta     *\",\"mucho     *\",\"aprender  *\",\"a         *\",\"programar.*\")\n",
        "for x in Palabras:\n",
        "  print(\"*\"+x)\n",
        "\n",
        "print(\"************\")"
      ],
      "metadata": {
        "colab": {
          "base_uri": "https://localhost:8080/"
        },
        "id": "TIXS6lyJHHqV",
        "outputId": "442f731f-eeb7-4ee6-8677-1da3cb451840"
      },
      "execution_count": 19,
      "outputs": [
        {
          "output_type": "stream",
          "name": "stdout",
          "text": [
            "************\n",
            "*Hola      *\n",
            "*me        *\n",
            "*gusta     *\n",
            "*mucho     *\n",
            "*aprender  *\n",
            "*a         *\n",
            "*programar.*\n",
            "************\n"
          ]
        }
      ]
    }
  ]
}