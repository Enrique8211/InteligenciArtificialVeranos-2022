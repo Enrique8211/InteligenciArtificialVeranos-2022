{
  "nbformat": 4,
  "nbformat_minor": 0,
  "metadata": {
    "colab": {
      "name": "IA_Ejercicio_1_EnriqueGarcia_1845299.ipynb",
      "provenance": []
    },
    "kernelspec": {
      "name": "python3",
      "display_name": "Python 3"
    },
    "language_info": {
      "name": "python"
    }
  },
  "cells": [
    {
      "cell_type": "markdown",
      "source": [
        "##Actividad #2 Ejercicios en Python\n",
        "Enrique Fernando Garcia Moreno 1845299 Hora:N4"
      ],
      "metadata": {
        "id": "Q1vWUzDF3BcS"
      }
    },
    {
      "cell_type": "code",
      "execution_count": null,
      "metadata": {
        "colab": {
          "base_uri": "https://localhost:8080/"
        },
        "id": "ugd9mO3K25Ke",
        "outputId": "4aef1f18-dc2f-45ff-b117-fe35b2124c89"
      },
      "outputs": [
        {
          "output_type": "stream",
          "name": "stdout",
          "text": [
            "Hola ¿Cual es tu nombre? Emilio\n",
            "Hola Emilio es un gusto conocerte.\n"
          ]
        }
      ],
      "source": [
        "# \"Ejercicio 1- Escribe un programa que le pida al usuario su nombre y que lo salude con su nombre, exceto sí se llama \"Ana\", \"Juan\" y \"Pedro\".#\n",
        "Nombre = input(\"Hola ¿Cual es tu nombre? \")\n",
        "if Nombre == \"Ana\" or Nombre == \"Juan\" or Nombre == \"Pedro\":\n",
        "  print(\" Lo siento no puedo saludarte.\")\n",
        "else:\n",
        "  print(\"Hola \" + Nombre + \" es un gusto conocerte.\")\n",
        "  "
      ]
    },
    {
      "cell_type": "code",
      "source": [
        "# \"Ejercicio 2.Escribe una función que regrese el último elemento de una lista y que revierta el orden de la lista e imprima la lista revertida.\"\n",
        "# Lista de materiales\n",
        "Materiales = (\"libreta\", \"Lapices\", \"Borrador\", \"Plumas\")\n",
        "Reverso = reversed(Materiales)\n",
        "x = next(Reverso)\n",
        "print(x)\n",
        "#m Materiales invertidos\n",
        "Materiales2 = [\"libreta\",\"Lapices\",\"Borrador\",\"Plumas\"]\n",
        "Reverso = list(reversed(Materiales2))\n",
        "print(Reverso)\n"
      ],
      "metadata": {
        "colab": {
          "base_uri": "https://localhost:8080/"
        },
        "id": "fpir9OcY70jS",
        "outputId": "487b35d4-2530-435e-9538-aa2395f1204d"
      },
      "execution_count": null,
      "outputs": [
        {
          "output_type": "stream",
          "name": "stdout",
          "text": [
            "Plumas\n",
            "['Plumas', 'Borrador', 'Lapices', 'libreta']\n"
          ]
        }
      ]
    },
    {
      "cell_type": "code",
      "source": [
        "# \"Ejercicio 3..Escribe una función que toma una lista de strings y los imprima línea por línea en un marco rectangular.\"\n",
        "print(\"************\")\n",
        "Palabras = (\"Hola      *\",\"me        *\",\"gusta     *\",\"mucho     *\",\"aprender  *\",\"a         *\",\"programar.*\")\n",
        "for x in Palabras:\n",
        "  print(\"*\"+x)\n",
        "\n",
        "print(\"************\")"
      ],
      "metadata": {
        "colab": {
          "base_uri": "https://localhost:8080/"
        },
        "id": "TIXS6lyJHHqV",
        "outputId": "58b7ca03-2a77-4b49-964f-bb13d1a75465"
      },
      "execution_count": null,
      "outputs": [
        {
          "output_type": "stream",
          "name": "stdout",
          "text": [
            "************\n",
            "*Hola      *\n",
            "*me        *\n",
            "*gusta     *\n",
            "*mucho     *\n",
            "*aprender  *\n",
            "*a         *\n",
            "*programar.*\n",
            "************\n"
          ]
        }
      ]
    }
  ]
}