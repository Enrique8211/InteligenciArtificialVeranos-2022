{
  "nbformat": 4,
  "nbformat_minor": 0,
  "metadata": {
    "colab": {
      "name": "Proyecto_Final_Equipo3.pynb",
      "provenance": [],
      "collapsed_sections": []
    },
    "kernelspec": {
      "name": "python3",
      "display_name": "Python 3"
    },
    "language_info": {
      "name": "python"
    }
  },
  "cells": [
    {
      "cell_type": "code",
      "execution_count": 116,
      "metadata": {
        "id": "0nqz2gOYbi2z"
      },
      "outputs": [],
      "source": [
        "import cv2\n",
        "import matplotlib.pyplot as plt\n",
        "import glob\n",
        "import tensorflow as tf\n",
        "from tensorflow.keras import datasets, layers, models \n",
        "import matplotlib.pyplot as plt \n",
        "from sklearn.model_selection import train_test_split\n",
        "import numpy as np\n",
        " "
      ]
    },
    {
      "cell_type": "code",
      "source": [
        "image_array = []\n",
        "image_label = []"
      ],
      "metadata": {
        "id": "tiLKMiYEboT_"
      },
      "execution_count": 2,
      "outputs": []
    },
    {
      "cell_type": "code",
      "source": [
        "file = \"/content/drive/MyDrive/9\"\n",
        "\n",
        "for images in glob.iglob(f\"{file}/*\" ):\n",
        "  test_image = cv2.imread(images, cv2.IMREAD_GRAYSCALE )\n",
        "  img_resized = cv2. resize(test_image, (28,28), interpolation=cv2.INTER_LINEAR)\n",
        "  image_array.append(img_resized)\n",
        "  image_label.append(9)\n",
        "\n",
        "plt.imshow(image_array[299], cmap= \"gray\")"
      ],
      "metadata": {
        "colab": {
          "base_uri": "https://localhost:8080/",
          "height": 282
        },
        "id": "GW3cpnoybobV",
        "outputId": "625927a8-8de3-4120-eeea-cbbf9aa08a20"
      },
      "execution_count": 82,
      "outputs": [
        {
          "output_type": "execute_result",
          "data": {
            "text/plain": [
              "<matplotlib.image.AxesImage at 0x7f47e18c95d0>"
            ]
          },
          "metadata": {},
          "execution_count": 82
        },
        {
          "output_type": "display_data",
          "data": {
            "text/plain": [
              "<Figure size 432x288 with 1 Axes>"
            ],
            "image/png": "[encoded data removed]"
          },
          "metadata": {
            "needs_background": "light"
          }
        }
      ]
    },
    {
      "cell_type": "code",
      "source": [
        "len(image_array)"
      ],
      "metadata": {
        "colab": {
          "base_uri": "https://localhost:8080/"
        },
        "id": "iJl2PzN-bojc",
        "outputId": "3063b01d-ad96-4196-8cd6-d9c031628da4"
      },
      "execution_count": 83,
      "outputs": [
        {
          "output_type": "execute_result",
          "data": {
            "text/plain": [
              "305"
            ]
          },
          "metadata": {},
          "execution_count": 83
        }
      ]
    },
    {
      "cell_type": "code",
      "source": [
        "image_label"
      ],
      "metadata": {
        "colab": {
          "base_uri": "https://localhost:8080/"
        },
        "id": "WOYjYhtXboqx",
        "outputId": "8bb91905-eb66-466c-996d-a2abca6872e5"
      },
      "execution_count": 84,
      "outputs": [
        {
          "output_type": "execute_result",
          "data": {
            "text/plain": [
              "[0,\n",
              " 0,\n",
              " 0,\n",
              " 0,\n",
              " 0,\n",
              " 0,\n",
              " 0,\n",
              " 0,\n",
              " 0,\n",
              " 0,\n",
              " 0,\n",
              " 0,\n",
              " 0,\n",
              " 0,\n",
              " 0,\n",
              " 0,\n",
              " 0,\n",
              " 0,\n",
              " 0,\n",
              " 0,\n",
              " 0,\n",
              " 0,\n",
              " 0,\n",
              " 0,\n",
              " 0,\n",
              " 0,\n",
              " 0,\n",
              " 0,\n",
              " 0,\n",
              " 0,\n",
              " 1,\n",
              " 1,\n",
              " 1,\n",
              " 1,\n",
              " 1,\n",
              " 1,\n",
              " 1,\n",
              " 1,\n",
              " 1,\n",
              " 1,\n",
              " 1,\n",
              " 1,\n",
              " 1,\n",
              " 1,\n",
              " 1,\n",
              " 1,\n",
              " 1,\n",
              " 1,\n",
              " 1,\n",
              " 1,\n",
              " 1,\n",
              " 1,\n",
              " 1,\n",
              " 1,\n",
              " 1,\n",
              " 1,\n",
              " 1,\n",
              " 1,\n",
              " 1,\n",
              " 1,\n",
              " 2,\n",
              " 2,\n",
              " 2,\n",
              " 2,\n",
              " 2,\n",
              " 2,\n",
              " 2,\n",
              " 2,\n",
              " 2,\n",
              " 2,\n",
              " 2,\n",
              " 2,\n",
              " 2,\n",
              " 2,\n",
              " 2,\n",
              " 2,\n",
              " 2,\n",
              " 2,\n",
              " 2,\n",
              " 2,\n",
              " 2,\n",
              " 2,\n",
              " 2,\n",
              " 2,\n",
              " 2,\n",
              " 2,\n",
              " 2,\n",
              " 2,\n",
              " 2,\n",
              " 2,\n",
              " 3,\n",
              " 3,\n",
              " 3,\n",
              " 3,\n",
              " 3,\n",
              " 3,\n",
              " 3,\n",
              " 3,\n",
              " 3,\n",
              " 3,\n",
              " 3,\n",
              " 3,\n",
              " 3,\n",
              " 3,\n",
              " 3,\n",
              " 3,\n",
              " 3,\n",
              " 3,\n",
              " 3,\n",
              " 3,\n",
              " 3,\n",
              " 3,\n",
              " 3,\n",
              " 3,\n",
              " 3,\n",
              " 3,\n",
              " 3,\n",
              " 3,\n",
              " 3,\n",
              " 3,\n",
              " 4,\n",
              " 4,\n",
              " 4,\n",
              " 4,\n",
              " 4,\n",
              " 4,\n",
              " 4,\n",
              " 4,\n",
              " 4,\n",
              " 4,\n",
              " 4,\n",
              " 4,\n",
              " 4,\n",
              " 4,\n",
              " 4,\n",
              " 4,\n",
              " 4,\n",
              " 4,\n",
              " 4,\n",
              " 4,\n",
              " 4,\n",
              " 4,\n",
              " 4,\n",
              " 4,\n",
              " 4,\n",
              " 4,\n",
              " 4,\n",
              " 4,\n",
              " 4,\n",
              " 4,\n",
              " 5,\n",
              " 5,\n",
              " 5,\n",
              " 5,\n",
              " 5,\n",
              " 5,\n",
              " 5,\n",
              " 5,\n",
              " 5,\n",
              " 5,\n",
              " 5,\n",
              " 5,\n",
              " 5,\n",
              " 5,\n",
              " 5,\n",
              " 5,\n",
              " 5,\n",
              " 5,\n",
              " 5,\n",
              " 5,\n",
              " 5,\n",
              " 5,\n",
              " 5,\n",
              " 5,\n",
              " 5,\n",
              " 5,\n",
              " 5,\n",
              " 5,\n",
              " 5,\n",
              " 5,\n",
              " 5,\n",
              " 5,\n",
              " 5,\n",
              " 5,\n",
              " 5,\n",
              " 5,\n",
              " 5,\n",
              " 5,\n",
              " 5,\n",
              " 5,\n",
              " 5,\n",
              " 5,\n",
              " 5,\n",
              " 5,\n",
              " 5,\n",
              " 6,\n",
              " 6,\n",
              " 6,\n",
              " 6,\n",
              " 6,\n",
              " 6,\n",
              " 6,\n",
              " 6,\n",
              " 6,\n",
              " 6,\n",
              " 6,\n",
              " 6,\n",
              " 6,\n",
              " 6,\n",
              " 6,\n",
              " 6,\n",
              " 6,\n",
              " 6,\n",
              " 6,\n",
              " 6,\n",
              " 6,\n",
              " 6,\n",
              " 6,\n",
              " 6,\n",
              " 6,\n",
              " 6,\n",
              " 6,\n",
              " 6,\n",
              " 6,\n",
              " 6,\n",
              " 6,\n",
              " 6,\n",
              " 6,\n",
              " 6,\n",
              " 6,\n",
              " 6,\n",
              " 6,\n",
              " 6,\n",
              " 6,\n",
              " 6,\n",
              " 7,\n",
              " 7,\n",
              " 7,\n",
              " 7,\n",
              " 7,\n",
              " 7,\n",
              " 7,\n",
              " 7,\n",
              " 7,\n",
              " 7,\n",
              " 7,\n",
              " 7,\n",
              " 7,\n",
              " 7,\n",
              " 7,\n",
              " 7,\n",
              " 7,\n",
              " 7,\n",
              " 7,\n",
              " 7,\n",
              " 7,\n",
              " 7,\n",
              " 7,\n",
              " 7,\n",
              " 7,\n",
              " 7,\n",
              " 7,\n",
              " 7,\n",
              " 7,\n",
              " 7,\n",
              " 8,\n",
              " 8,\n",
              " 8,\n",
              " 8,\n",
              " 8,\n",
              " 8,\n",
              " 8,\n",
              " 8,\n",
              " 8,\n",
              " 8,\n",
              " 8,\n",
              " 8,\n",
              " 8,\n",
              " 8,\n",
              " 8,\n",
              " 8,\n",
              " 8,\n",
              " 8,\n",
              " 8,\n",
              " 8,\n",
              " 9,\n",
              " 9,\n",
              " 9,\n",
              " 9,\n",
              " 9,\n",
              " 9,\n",
              " 9,\n",
              " 9,\n",
              " 9,\n",
              " 9,\n",
              " 9,\n",
              " 9,\n",
              " 9,\n",
              " 9,\n",
              " 9,\n",
              " 9,\n",
              " 9,\n",
              " 9,\n",
              " 9,\n",
              " 9]"
            ]
          },
          "metadata": {},
          "execution_count": 84
        }
      ]
    },
    {
      "cell_type": "code",
      "source": [
        "len(image_label)"
      ],
      "metadata": {
        "colab": {
          "base_uri": "https://localhost:8080/"
        },
        "id": "i09HyUojbw9C",
        "outputId": "69ccd7d0-9a34-4ecb-91be-eca78c195537"
      },
      "execution_count": 85,
      "outputs": [
        {
          "output_type": "execute_result",
          "data": {
            "text/plain": [
              "305"
            ]
          },
          "metadata": {},
          "execution_count": 85
        }
      ]
    },
    {
      "cell_type": "markdown",
      "source": [
        "Dividir DataSet"
      ],
      "metadata": {
        "id": "u1S-_LAYb0qB"
      }
    },
    {
      "cell_type": "code",
      "source": [
        "x_train, x_test, y_train, y_test = train_test_split(image_array, image_label, test_size=0.30, random_state=42)"
      ],
      "metadata": {
        "id": "RZ6VyFl_b4fx"
      },
      "execution_count": 102,
      "outputs": []
    },
    {
      "cell_type": "code",
      "source": [
        "plt.imshow(x_train[120], cmap= \"gray\")"
      ],
      "metadata": {
        "colab": {
          "base_uri": "https://localhost:8080/",
          "height": 282
        },
        "id": "yhIDWnw7lCp4",
        "outputId": "4b1b4711-3f7e-40ae-c7a4-fb8ccd844ba2"
      },
      "execution_count": 109,
      "outputs": [
        {
          "output_type": "execute_result",
          "data": {
            "text/plain": [
              "<matplotlib.image.AxesImage at 0x7f47dc777e10>"
            ]
          },
          "metadata": {},
          "execution_count": 109
        },
        {
          "output_type": "display_data",
          "data": {
            "text/plain": [
              "<Figure size 432x288 with 1 Axes>"
            ],
            "image/png": "[encoded data removed]"
          },
          "metadata": {
            "needs_background": "light"
          }
        }
      ]
    },
    {
      "cell_type": "code",
      "source": [
        "print(y_train[120])"
      ],
      "metadata": {
        "colab": {
          "base_uri": "https://localhost:8080/"
        },
        "id": "RUFalAFSlpUl",
        "outputId": "3f753f05-4182-4f20-f008-1e994aa76969"
      },
      "execution_count": 110,
      "outputs": [
        {
          "output_type": "stream",
          "name": "stdout",
          "text": [
            "7\n"
          ]
        }
      ]
    },
    {
      "cell_type": "code",
      "source": [
        "x_train= np.array(x_train)\n",
        "x_test= np.array(x_test)"
      ],
      "metadata": {
        "id": "eZdvSsADmi0e"
      },
      "execution_count": 120,
      "outputs": []
    },
    {
      "cell_type": "code",
      "source": [
        "x_train.shape"
      ],
      "metadata": {
        "colab": {
          "base_uri": "https://localhost:8080/"
        },
        "id": "xP5vCMcpmzEw",
        "outputId": "ee186dc1-f97f-48fa-f74e-72b821d591d1"
      },
      "execution_count": 121,
      "outputs": [
        {
          "output_type": "execute_result",
          "data": {
            "text/plain": [
              "(213, 28, 28)"
            ]
          },
          "metadata": {},
          "execution_count": 121
        }
      ]
    },
    {
      "cell_type": "code",
      "source": [
        "len(y_train)"
      ],
      "metadata": {
        "colab": {
          "base_uri": "https://localhost:8080/"
        },
        "id": "GjkSvhyZpFw5",
        "outputId": "25bc5153-cf54-40c8-dc7e-6ecd8f4746ab"
      },
      "execution_count": 126,
      "outputs": [
        {
          "output_type": "execute_result",
          "data": {
            "text/plain": [
              "213"
            ]
          },
          "metadata": {},
          "execution_count": 126
        }
      ]
    },
    {
      "cell_type": "code",
      "source": [
        "len(y_test)"
      ],
      "metadata": {
        "colab": {
          "base_uri": "https://localhost:8080/"
        },
        "id": "oadP6YR1pIyM",
        "outputId": "ae8cd51c-e629-4054-afab-cba01f96fc5a"
      },
      "execution_count": 127,
      "outputs": [
        {
          "output_type": "execute_result",
          "data": {
            "text/plain": [
              "92"
            ]
          },
          "metadata": {},
          "execution_count": 127
        }
      ]
    },
    {
      "cell_type": "code",
      "source": [
        "y_train"
      ],
      "metadata": {
        "colab": {
          "base_uri": "https://localhost:8080/"
        },
        "id": "6zXzMGS_pMAY",
        "outputId": "bb215cd4-9edb-49df-f808-086bc3678264"
      },
      "execution_count": 128,
      "outputs": [
        {
          "output_type": "execute_result",
          "data": {
            "text/plain": [
              "[2,\n",
              " 0,\n",
              " 0,\n",
              " 5,\n",
              " 6,\n",
              " 3,\n",
              " 2,\n",
              " 6,\n",
              " 1,\n",
              " 0,\n",
              " 4,\n",
              " 5,\n",
              " 8,\n",
              " 2,\n",
              " 3,\n",
              " 2,\n",
              " 1,\n",
              " 5,\n",
              " 5,\n",
              " 6,\n",
              " 9,\n",
              " 0,\n",
              " 5,\n",
              " 3,\n",
              " 4,\n",
              " 9,\n",
              " 2,\n",
              " 7,\n",
              " 5,\n",
              " 6,\n",
              " 7,\n",
              " 9,\n",
              " 4,\n",
              " 8,\n",
              " 1,\n",
              " 5,\n",
              " 7,\n",
              " 5,\n",
              " 7,\n",
              " 4,\n",
              " 1,\n",
              " 6,\n",
              " 9,\n",
              " 5,\n",
              " 3,\n",
              " 5,\n",
              " 3,\n",
              " 8,\n",
              " 9,\n",
              " 9,\n",
              " 5,\n",
              " 5,\n",
              " 0,\n",
              " 3,\n",
              " 4,\n",
              " 5,\n",
              " 4,\n",
              " 6,\n",
              " 8,\n",
              " 4,\n",
              " 2,\n",
              " 0,\n",
              " 2,\n",
              " 7,\n",
              " 3,\n",
              " 5,\n",
              " 5,\n",
              " 4,\n",
              " 6,\n",
              " 6,\n",
              " 2,\n",
              " 6,\n",
              " 2,\n",
              " 6,\n",
              " 5,\n",
              " 0,\n",
              " 1,\n",
              " 0,\n",
              " 4,\n",
              " 6,\n",
              " 4,\n",
              " 5,\n",
              " 1,\n",
              " 3,\n",
              " 7,\n",
              " 6,\n",
              " 1,\n",
              " 2,\n",
              " 6,\n",
              " 4,\n",
              " 0,\n",
              " 9,\n",
              " 4,\n",
              " 6,\n",
              " 0,\n",
              " 8,\n",
              " 8,\n",
              " 3,\n",
              " 7,\n",
              " 3,\n",
              " 5,\n",
              " 3,\n",
              " 1,\n",
              " 2,\n",
              " 5,\n",
              " 7,\n",
              " 6,\n",
              " 7,\n",
              " 0,\n",
              " 9,\n",
              " 6,\n",
              " 8,\n",
              " 0,\n",
              " 6,\n",
              " 0,\n",
              " 4,\n",
              " 1,\n",
              " 6,\n",
              " 5,\n",
              " 6,\n",
              " 7,\n",
              " 4,\n",
              " 2,\n",
              " 4,\n",
              " 4,\n",
              " 9,\n",
              " 0,\n",
              " 2,\n",
              " 8,\n",
              " 2,\n",
              " 1,\n",
              " 8,\n",
              " 5,\n",
              " 1,\n",
              " 4,\n",
              " 8,\n",
              " 6,\n",
              " 5,\n",
              " 0,\n",
              " 8,\n",
              " 3,\n",
              " 2,\n",
              " 6,\n",
              " 6,\n",
              " 1,\n",
              " 7,\n",
              " 9,\n",
              " 7,\n",
              " 6,\n",
              " 0,\n",
              " 1,\n",
              " 3,\n",
              " 8,\n",
              " 6,\n",
              " 8,\n",
              " 6,\n",
              " 5,\n",
              " 1,\n",
              " 6,\n",
              " 4,\n",
              " 5,\n",
              " 6,\n",
              " 9,\n",
              " 0,\n",
              " 3,\n",
              " 1,\n",
              " 0,\n",
              " 1,\n",
              " 2,\n",
              " 6,\n",
              " 1,\n",
              " 7,\n",
              " 3,\n",
              " 1,\n",
              " 7,\n",
              " 7,\n",
              " 0,\n",
              " 2,\n",
              " 5,\n",
              " 9,\n",
              " 4,\n",
              " 9,\n",
              " 7,\n",
              " 1,\n",
              " 1,\n",
              " 5,\n",
              " 5,\n",
              " 9,\n",
              " 5,\n",
              " 5,\n",
              " 1,\n",
              " 1,\n",
              " 7,\n",
              " 7,\n",
              " 0,\n",
              " 5,\n",
              " 8,\n",
              " 5,\n",
              " 7,\n",
              " 4,\n",
              " 4,\n",
              " 5,\n",
              " 3,\n",
              " 2,\n",
              " 6,\n",
              " 4,\n",
              " 9,\n",
              " 0,\n",
              " 5,\n",
              " 2,\n",
              " 3,\n",
              " 8,\n",
              " 3]"
            ]
          },
          "metadata": {},
          "execution_count": 128
        }
      ]
    },
    {
      "cell_type": "code",
      "source": [
        "x_test.shape"
      ],
      "metadata": {
        "colab": {
          "base_uri": "https://localhost:8080/"
        },
        "id": "AkdhRzQZp95K",
        "outputId": "64fb5e16-133d-4f09-d949-bf496f4d0636"
      },
      "execution_count": 129,
      "outputs": [
        {
          "output_type": "execute_result",
          "data": {
            "text/plain": [
              "(92, 28, 28)"
            ]
          },
          "metadata": {},
          "execution_count": 129
        }
      ]
    },
    {
      "cell_type": "code",
      "source": [
        "len(y_test)"
      ],
      "metadata": {
        "colab": {
          "base_uri": "https://localhost:8080/"
        },
        "id": "JC-l0g-8qE4d",
        "outputId": "0f3a84ac-b654-4146-cc7d-aede685486bd"
      },
      "execution_count": 130,
      "outputs": [
        {
          "output_type": "execute_result",
          "data": {
            "text/plain": [
              "92"
            ]
          },
          "metadata": {},
          "execution_count": 130
        }
      ]
    }
  ]
}